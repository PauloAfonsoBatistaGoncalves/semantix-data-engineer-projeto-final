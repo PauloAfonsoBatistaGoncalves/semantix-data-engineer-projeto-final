{
 "cells": [
  {
   "cell_type": "code",
   "execution_count": null,
   "metadata": {},
   "outputs": [],
   "source": [
    "##!hdfs dfs -mkdir /user/rodrigo/stream"
   ]
  },
  {
   "cell_type": "code",
   "execution_count": 1,
   "metadata": {},
   "outputs": [],
   "source": [
    "from pyspark.streaming import StreamingContext\n",
    "from time import sleep"
   ]
  },
  {
   "cell_type": "code",
   "execution_count": 2,
   "metadata": {},
   "outputs": [],
   "source": [
    "conf = SparkConf().setMaster(\"local[*]\").setAppName(\"DStream WordCount\")\n",
    "sc = SparkContext.getOrCreate(conf)\n",
    "ssc = StreamingContext(sc,10)"
   ]
  },
  {
   "cell_type": "code",
   "execution_count": 3,
   "metadata": {},
   "outputs": [],
   "source": [
    "dstr = ssc.socketTextStream (\"localhost\", 9998)"
   ]
  },
  {
   "cell_type": "code",
   "execution_count": 4,
   "metadata": {},
   "outputs": [],
   "source": [
    "readStr = ssc.socketTextStream(\"localhost\",9998)\n",
    "palavras = readStr.flatMap(lambda linha: linha.split(\" \"))\n",
    "pMinuscula = palavras.map(lambda palavra: palavra.lower())\n",
    "pChaveValor = pMinuscula.map(lambda palavra: (palavra,1))\n",
    "pReduce = pChaveValor.reduceByKey(lambda key1,key2: key1+key2)"
   ]
  },
  {
   "cell_type": "code",
   "execution_count": 5,
   "metadata": {},
   "outputs": [],
   "source": [
    "##pReduce.pprint()\n",
    "pReduce.saveAsTextFiles(\"/user/rodrigo/stream/word_count\")"
   ]
  },
  {
   "cell_type": "code",
   "execution_count": 6,
   "metadata": {
    "scrolled": true
   },
   "outputs": [],
   "source": [
    "ssc.start()\n",
    "sleep(50)\n",
    "ssc.stop()"
   ]
  },
  {
   "cell_type": "code",
   "execution_count": 7,
   "metadata": {},
   "outputs": [],
   "source": [
    "ssc.stop()"
   ]
  },
  {
   "cell_type": "code",
   "execution_count": 8,
   "metadata": {},
   "outputs": [
    {
     "name": "stdout",
     "output_type": "stream",
     "text": [
      "Found 5 items\r\n",
      "drwxr-xr-x   - root supergroup          0 2021-11-01 02:04 /user/rodrigo/stream/word_count-1635732260000\r\n",
      "drwxr-xr-x   - root supergroup          0 2021-11-01 02:04 /user/rodrigo/stream/word_count-1635732270000\r\n",
      "drwxr-xr-x   - root supergroup          0 2021-11-01 02:04 /user/rodrigo/stream/word_count-1635732280000\r\n",
      "drwxr-xr-x   - root supergroup          0 2021-11-01 02:04 /user/rodrigo/stream/word_count-1635732290000\r\n",
      "drwxr-xr-x   - root supergroup          0 2021-11-01 02:05 /user/rodrigo/stream/word_count-1635732300000\r\n"
     ]
    }
   ],
   "source": [
    "!hdfs dfs -ls /user/rodrigo/stream"
   ]
  },
  {
   "cell_type": "code",
   "execution_count": null,
   "metadata": {},
   "outputs": [],
   "source": []
  }
 ],
 "metadata": {
  "kernelspec": {
   "display_name": "PySpark",
   "language": "python",
   "name": "pyspark"
  },
  "language_info": {
   "codemirror_mode": {
    "name": "ipython",
    "version": 3
   },
   "file_extension": ".py",
   "mimetype": "text/x-python",
   "name": "python",
   "nbconvert_exporter": "python",
   "pygments_lexer": "ipython3",
   "version": "3.6.10"
  }
 },
 "nbformat": 4,
 "nbformat_minor": 2
}
