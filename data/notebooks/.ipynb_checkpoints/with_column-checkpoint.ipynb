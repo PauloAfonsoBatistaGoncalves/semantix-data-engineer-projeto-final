{
 "cells": [
  {
   "cell_type": "markdown",
   "metadata": {},
   "source": [
    "<h2>Parte 1</h2>"
   ]
  },
  {
   "cell_type": "code",
   "execution_count": 2,
   "metadata": {},
   "outputs": [
    {
     "name": "stdout",
     "output_type": "stream",
     "text": [
      "+----------+-----+\n",
      "|      data|valor|\n",
      "+----------+-----+\n",
      "|01/06/1986| 1.27|\n",
      "|01/07/1986| 1.95|\n",
      "|01/08/1986| 2.57|\n",
      "|01/09/1986| 2.94|\n",
      "|01/10/1986| 1.96|\n",
      "+----------+-----+\n",
      "only showing top 5 rows\n",
      "\n"
     ]
    }
   ],
   "source": [
    "juros_selic = spark.read.json(\"hdfs://namenode:8020/user/rodrigo/data/exercises-data/juros_selic/juros_selic.json\")\n",
    "juros_selic.show(5)"
   ]
  },
  {
   "cell_type": "code",
   "execution_count": 48,
   "metadata": {},
   "outputs": [
    {
     "ename": "ModuleNotFoundError",
     "evalue": "No module named 'pyspark.sql.type'",
     "output_type": "error",
     "traceback": [
      "\u001b[0;31m---------------------------------------------------------------------------\u001b[0m",
      "\u001b[0;31mModuleNotFoundError\u001b[0m                       Traceback (most recent call last)",
      "\u001b[0;32m<ipython-input-48-ea1468e86616>\u001b[0m in \u001b[0;36m<module>\u001b[0;34m()\u001b[0m\n\u001b[1;32m      1\u001b[0m \u001b[0;32mfrom\u001b[0m \u001b[0mpyspark\u001b[0m\u001b[0;34m.\u001b[0m\u001b[0msql\u001b[0m\u001b[0;34m.\u001b[0m\u001b[0mfunctions\u001b[0m \u001b[0;32mimport\u001b[0m \u001b[0munix_timestamp\u001b[0m\u001b[0;34m,\u001b[0m\u001b[0mfrom_unixtime\u001b[0m\u001b[0;34m,\u001b[0m \u001b[0mcol\u001b[0m\u001b[0;34m,\u001b[0m \u001b[0msubstring\u001b[0m\u001b[0;34m,\u001b[0m \u001b[0msplit\u001b[0m\u001b[0;34m\u001b[0m\u001b[0;34m\u001b[0m\u001b[0m\n\u001b[0;32m----> 2\u001b[0;31m \u001b[0;32mfrom\u001b[0m \u001b[0mpyspark\u001b[0m\u001b[0;34m.\u001b[0m\u001b[0msql\u001b[0m\u001b[0;34m.\u001b[0m\u001b[0mtype\u001b[0m \u001b[0;32mimport\u001b[0m \u001b[0mFloatType\u001b[0m\u001b[0;34m\u001b[0m\u001b[0;34m\u001b[0m\u001b[0m\n\u001b[0m\u001b[1;32m      3\u001b[0m \u001b[0;34m\u001b[0m\u001b[0m\n\u001b[1;32m      4\u001b[0m \u001b[0mconvUnix\u001b[0m \u001b[0;34m=\u001b[0m \u001b[0mjuros_selic\u001b[0m\u001b[0;34m.\u001b[0m\u001b[0mwithColumn\u001b[0m\u001b[0;34m(\u001b[0m\u001b[0;34m\"timestamp\"\u001b[0m\u001b[0;34m,\u001b[0m \u001b[0munix_timestamp\u001b[0m\u001b[0;34m(\u001b[0m\u001b[0mcol\u001b[0m\u001b[0;34m(\u001b[0m\u001b[0;34m\"data\"\u001b[0m\u001b[0;34m)\u001b[0m\u001b[0;34m,\u001b[0m \u001b[0;34m\"dd/MM/yyyy\"\u001b[0m\u001b[0;34m)\u001b[0m\u001b[0;34m)\u001b[0m\u001b[0;34m\u001b[0m\u001b[0;34m\u001b[0m\u001b[0m\n\u001b[1;32m      5\u001b[0m \u001b[0mconvUnix\u001b[0m\u001b[0;34m.\u001b[0m\u001b[0mshow\u001b[0m\u001b[0;34m(\u001b[0m\u001b[0;36m5\u001b[0m\u001b[0;34m)\u001b[0m\u001b[0;34m\u001b[0m\u001b[0;34m\u001b[0m\u001b[0m\n",
      "\u001b[0;31mModuleNotFoundError\u001b[0m: No module named 'pyspark.sql.type'"
     ]
    }
   ],
   "source": [
    "from pyspark.sql.functions import unix_timestamp,from_unixtime, col, substring, split\n",
    "\n",
    "convUnix = juros_selic.withColumn(\"timestamp\", unix_timestamp(col(\"data\"), \"dd/MM/yyyy\"))\n",
    "convUnix.show(5)"
   ]
  },
  {
   "cell_type": "code",
   "execution_count": 6,
   "metadata": {},
   "outputs": [
    {
     "name": "stdout",
     "output_type": "stream",
     "text": [
      "+----------+-----+---------+----------+\n",
      "|      data|valor|timestamp|  new data|\n",
      "+----------+-----+---------+----------+\n",
      "|01/06/1986| 1.27|517968000|06/01/1986|\n",
      "|01/07/1986| 1.95|520560000|07/01/1986|\n",
      "|01/08/1986| 2.57|523238400|08/01/1986|\n",
      "|01/09/1986| 2.94|525916800|09/01/1986|\n",
      "|01/10/1986| 1.96|528508800|10/01/1986|\n",
      "+----------+-----+---------+----------+\n",
      "only showing top 5 rows\n",
      "\n"
     ]
    }
   ],
   "source": [
    "convUnixData = convUnix.withColumn(\"new data\", from_unixtime(\"timestamp\", \"MM/dd/yyyy\"))\n",
    "convUnixData.show(5)"
   ]
  },
  {
   "cell_type": "code",
   "execution_count": 9,
   "metadata": {},
   "outputs": [
    {
     "name": "stdout",
     "output_type": "stream",
     "text": [
      "+----------+-----+---------+--------+\n",
      "|      data|valor|timestamp|ano_unix|\n",
      "+----------+-----+---------+--------+\n",
      "|01/06/1986| 1.27|517968000|    1986|\n",
      "|01/07/1986| 1.95|520560000|    1986|\n",
      "|01/08/1986| 2.57|523238400|    1986|\n",
      "|01/09/1986| 2.94|525916800|    1986|\n",
      "|01/10/1986| 1.96|528508800|    1986|\n",
      "+----------+-----+---------+--------+\n",
      "only showing top 5 rows\n",
      "\n"
     ]
    }
   ],
   "source": [
    "convUnixDataAno = convUnix.withColumn(\"ano_unix\", from_unixtime(\"timestamp\", \"yyyy\"))\n",
    "convUnixDataAno.show(5)"
   ]
  },
  {
   "cell_type": "code",
   "execution_count": 18,
   "metadata": {},
   "outputs": [
    {
     "name": "stdout",
     "output_type": "stream",
     "text": [
      "+----------+-----+---------+--------+-------+\n",
      "|      data|valor|timestamp|ano_unix|ano_str|\n",
      "+----------+-----+---------+--------+-------+\n",
      "|01/06/1986| 1.27|517968000|    1986|   1986|\n",
      "|01/07/1986| 1.95|520560000|    1986|   1986|\n",
      "|01/08/1986| 2.57|523238400|    1986|   1986|\n",
      "|01/09/1986| 2.94|525916800|    1986|   1986|\n",
      "|01/10/1986| 1.96|528508800|    1986|   1986|\n",
      "+----------+-----+---------+--------+-------+\n",
      "only showing top 5 rows\n",
      "\n"
     ]
    }
   ],
   "source": [
    "convUnixDataAnoStr = convUnixDataAno.withColumn(\"ano_str\", substring(col(\"data\"),7,9))\n",
    "convUnixDataAnoStr.show(5)"
   ]
  },
  {
   "cell_type": "code",
   "execution_count": 19,
   "metadata": {},
   "outputs": [
    {
     "name": "stdout",
     "output_type": "stream",
     "text": [
      "+----------+-----+---------+--------+-------+--------+\n",
      "|      data|valor|timestamp|ano_unix|ano_str|ano_str2|\n",
      "+----------+-----+---------+--------+-------+--------+\n",
      "|01/06/1986| 1.27|517968000|    1986|   1986|    1986|\n",
      "|01/07/1986| 1.95|520560000|    1986|   1986|    1986|\n",
      "|01/08/1986| 2.57|523238400|    1986|   1986|    1986|\n",
      "|01/09/1986| 2.94|525916800|    1986|   1986|    1986|\n",
      "|01/10/1986| 1.96|528508800|    1986|   1986|    1986|\n",
      "+----------+-----+---------+--------+-------+--------+\n",
      "only showing top 5 rows\n",
      "\n"
     ]
    }
   ],
   "source": [
    "convUnixDataAnoStrSplit = convUnixDataAnoStr.withColumn(\"ano_str2\", split(col(\"data\"),\"/\").getItem(2))\n",
    "convUnixDataAnoStrSplit.show(5)"
   ]
  },
  {
   "cell_type": "code",
   "execution_count": 20,
   "metadata": {},
   "outputs": [],
   "source": [
    "convUnixDataAnoStrSplit.write.csv(\"/user/rodrigo/juros_selic_americano\")"
   ]
  },
  {
   "cell_type": "code",
   "execution_count": 21,
   "metadata": {},
   "outputs": [
    {
     "name": "stdout",
     "output_type": "stream",
     "text": [
      "Found 2 items\n",
      "-rw-r--r--   2 root supergroup          0 2021-10-27 00:19 /user/rodrigo/juros_selic_americano/_SUCCESS\n",
      "-rw-r--r--   2 root supergroup      16401 2021-10-27 00:19 /user/rodrigo/juros_selic_americano/part-00000-cb3b625a-9c67-4dca-8b68-1440c41d14ca-c000.csv\n"
     ]
    }
   ],
   "source": [
    "!hdfs dfs -ls /user/rodrigo/juros_selic_americano"
   ]
  },
  {
   "cell_type": "markdown",
   "metadata": {},
   "source": [
    "<h2>Parte 2</h2>"
   ]
  },
  {
   "cell_type": "code",
   "execution_count": 23,
   "metadata": {},
   "outputs": [
    {
     "name": "stdout",
     "output_type": "stream",
     "text": [
      "+----------+-----+\n",
      "|      data|valor|\n",
      "+----------+-----+\n",
      "|01/06/1986| 1.27|\n",
      "|01/07/1986| 1.95|\n",
      "|01/08/1986| 2.57|\n",
      "|01/09/1986| 2.94|\n",
      "|01/10/1986| 1.96|\n",
      "+----------+-----+\n",
      "only showing top 5 rows\n",
      "\n"
     ]
    }
   ],
   "source": [
    "juros_selic = spark.read.json(\"hdfs://namenode:8020/user/rodrigo/data/exercises-data/juros_selic/juros_selic.json\")\n",
    "juros_selic.show(5)"
   ]
  },
  {
   "cell_type": "code",
   "execution_count": 118,
   "metadata": {},
   "outputs": [],
   "source": [
    "from pyspark.sql.types import FloatType\n",
    "from pyspark.sql.types import DoubleType\n",
    "from pyspark.sql.functions import sum, avg, min, max, count, desc"
   ]
  },
  {
   "cell_type": "code",
   "execution_count": 119,
   "metadata": {},
   "outputs": [
    {
     "name": "stdout",
     "output_type": "stream",
     "text": [
      "+----------+-----+-------+-----------+\n",
      "|      data|valor|ano_str|valor_float|\n",
      "+----------+-----+-------+-----------+\n",
      "|01/06/1986| 1.27|   1986|       1.27|\n",
      "|01/07/1986| 1.95|   1986|       1.95|\n",
      "|01/08/1986| 2.57|   1986|       2.57|\n",
      "|01/09/1986| 2.94|   1986|       2.94|\n",
      "|01/10/1986| 1.96|   1986|       1.96|\n",
      "+----------+-----+-------+-----------+\n",
      "only showing top 5 rows\n",
      "\n"
     ]
    }
   ],
   "source": [
    "convUnixDataAno = juros_selic.withColumn(\"ano_str\", substring(col(\"data\"),7,9))\n",
    "convUnixDataAno = convUnixDataAno.withColumn(\"valor_float\",col(\"valor\").cast(DoubleType()))\n",
    "\n",
    "convUnixDataAno.show(5)"
   ]
  },
  {
   "cell_type": "code",
   "execution_count": 122,
   "metadata": {},
   "outputs": [
    {
     "name": "stdout",
     "output_type": "stream",
     "text": [
      "+-------+-----+------------------+------------+------------+\n",
      "|ano_str|meses|       valor_medio|valor_minimo|valor_maximo|\n",
      "+-------+-----+------------------+------------+------------+\n",
      "|   2019|    2|             0.455|        0.37|        0.54|\n",
      "|   2018|   12|              0.52|        0.47|        0.58|\n",
      "|   2017|   12|0.7941666666666665|        0.54|        1.09|\n",
      "|   2016|   12|1.1000000000000003|         1.0|        1.22|\n",
      "|   2015|   12|             1.045|        0.82|        1.18|\n",
      "|   2014|   12|0.8666666666666666|        0.77|        0.96|\n",
      "|   2013|   12|              0.66|        0.49|        0.81|\n",
      "|   2012|   12|0.6808333333333333|        0.54|        0.89|\n",
      "|   2011|   12|              0.92|        0.84|        1.07|\n",
      "|   2010|   12|0.7808333333333333|        0.59|        0.93|\n",
      "|   2009|   12|0.7916666666666666|        0.66|        1.05|\n",
      "|   2008|   12|             0.985|         0.8|        1.18|\n",
      "|   2007|   12|            0.9375|         0.8|        1.08|\n",
      "|   2006|   12|            1.1775|        0.99|        1.43|\n",
      "|   2005|   12|1.4633333333333332|        1.22|        1.66|\n",
      "|   2004|   12|1.2616666666666667|        1.08|        1.48|\n",
      "|   2003|   12|1.7633333333333334|        1.34|        2.08|\n",
      "|   2002|   12|1.4716666666666667|        1.25|        1.74|\n",
      "|   2001|   12|1.3399999999999999|        1.02|         1.6|\n",
      "|   2000|   12| 1.349166666666667|         1.2|        1.49|\n",
      "+-------+-----+------------------+------------+------------+\n",
      "only showing top 20 rows\n",
      "\n"
     ]
    }
   ],
   "source": [
    "convUnixDataAnoGroup = convUnixDataAno.groupBy(\"ano_str\")\\\n",
    "    .agg(\n",
    "        count(\"data\").alias(\"meses\"),\n",
    "        avg(\"valor_float\").alias(\"valor_medio\"),\n",
    "        min(\"valor_float\").alias(\"valor_minimo\"),\n",
    "        max(\"valor_float\").alias(\"valor_maximo\"),\n",
    "    ).sort(desc(\"ano_str\"))\n",
    "convUnixDataAnoGroup.show()"
   ]
  },
  {
   "cell_type": "code",
   "execution_count": 130,
   "metadata": {},
   "outputs": [],
   "source": [
    "convUnixDataAnoGroup.write.orc(\"/user/paulo/relatorioAnual\", compression=\"zlib\")"
   ]
  },
  {
   "cell_type": "code",
   "execution_count": 132,
   "metadata": {},
   "outputs": [
    {
     "name": "stdout",
     "output_type": "stream",
     "text": [
      "Found 35 items\r\n",
      "-rw-r--r--   2 root supergroup          0 2021-10-27 01:34 /user/paulo/relatorioAnual/_SUCCESS\r\n",
      "-rw-r--r--   2 root supergroup        610 2021-10-27 01:34 /user/paulo/relatorioAnual/part-00000-c21e2994-592c-4e9e-90d4-887366ee4c24-c000.zlib.orc\r\n",
      "-rw-r--r--   2 root supergroup        614 2021-10-27 01:34 /user/paulo/relatorioAnual/part-00001-c21e2994-592c-4e9e-90d4-887366ee4c24-c000.zlib.orc\r\n",
      "-rw-r--r--   2 root supergroup        614 2021-10-27 01:34 /user/paulo/relatorioAnual/part-00002-c21e2994-592c-4e9e-90d4-887366ee4c24-c000.zlib.orc\r\n",
      "-rw-r--r--   2 root supergroup        602 2021-10-27 01:34 /user/paulo/relatorioAnual/part-00003-c21e2994-592c-4e9e-90d4-887366ee4c24-c000.zlib.orc\r\n",
      "-rw-r--r--   2 root supergroup        614 2021-10-27 01:34 /user/paulo/relatorioAnual/part-00004-c21e2994-592c-4e9e-90d4-887366ee4c24-c000.zlib.orc\r\n",
      "-rw-r--r--   2 root supergroup        604 2021-10-27 01:34 /user/paulo/relatorioAnual/part-00005-c21e2994-592c-4e9e-90d4-887366ee4c24-c000.zlib.orc\r\n",
      "-rw-r--r--   2 root supergroup        612 2021-10-27 01:34 /user/paulo/relatorioAnual/part-00006-c21e2994-592c-4e9e-90d4-887366ee4c24-c000.zlib.orc\r\n",
      "-rw-r--r--   2 root supergroup        610 2021-10-27 01:34 /user/paulo/relatorioAnual/part-00007-c21e2994-592c-4e9e-90d4-887366ee4c24-c000.zlib.orc\r\n",
      "-rw-r--r--   2 root supergroup        614 2021-10-27 01:34 /user/paulo/relatorioAnual/part-00008-c21e2994-592c-4e9e-90d4-887366ee4c24-c000.zlib.orc\r\n",
      "-rw-r--r--   2 root supergroup        614 2021-10-27 01:34 /user/paulo/relatorioAnual/part-00009-c21e2994-592c-4e9e-90d4-887366ee4c24-c000.zlib.orc\r\n",
      "-rw-r--r--   2 root supergroup        601 2021-10-27 01:34 /user/paulo/relatorioAnual/part-00010-c21e2994-592c-4e9e-90d4-887366ee4c24-c000.zlib.orc\r\n",
      "-rw-r--r--   2 root supergroup        608 2021-10-27 01:34 /user/paulo/relatorioAnual/part-00011-c21e2994-592c-4e9e-90d4-887366ee4c24-c000.zlib.orc\r\n",
      "-rw-r--r--   2 root supergroup        601 2021-10-27 01:34 /user/paulo/relatorioAnual/part-00012-c21e2994-592c-4e9e-90d4-887366ee4c24-c000.zlib.orc\r\n",
      "-rw-r--r--   2 root supergroup        610 2021-10-27 01:34 /user/paulo/relatorioAnual/part-00013-c21e2994-592c-4e9e-90d4-887366ee4c24-c000.zlib.orc\r\n",
      "-rw-r--r--   2 root supergroup        614 2021-10-27 01:34 /user/paulo/relatorioAnual/part-00014-c21e2994-592c-4e9e-90d4-887366ee4c24-c000.zlib.orc\r\n",
      "-rw-r--r--   2 root supergroup        610 2021-10-27 01:34 /user/paulo/relatorioAnual/part-00015-c21e2994-592c-4e9e-90d4-887366ee4c24-c000.zlib.orc\r\n",
      "-rw-r--r--   2 root supergroup        610 2021-10-27 01:34 /user/paulo/relatorioAnual/part-00016-c21e2994-592c-4e9e-90d4-887366ee4c24-c000.zlib.orc\r\n",
      "-rw-r--r--   2 root supergroup        608 2021-10-27 01:34 /user/paulo/relatorioAnual/part-00017-c21e2994-592c-4e9e-90d4-887366ee4c24-c000.zlib.orc\r\n",
      "-rw-r--r--   2 root supergroup        606 2021-10-27 01:34 /user/paulo/relatorioAnual/part-00018-c21e2994-592c-4e9e-90d4-887366ee4c24-c000.zlib.orc\r\n",
      "-rw-r--r--   2 root supergroup        610 2021-10-27 01:34 /user/paulo/relatorioAnual/part-00019-c21e2994-592c-4e9e-90d4-887366ee4c24-c000.zlib.orc\r\n",
      "-rw-r--r--   2 root supergroup        614 2021-10-27 01:34 /user/paulo/relatorioAnual/part-00020-c21e2994-592c-4e9e-90d4-887366ee4c24-c000.zlib.orc\r\n",
      "-rw-r--r--   2 root supergroup        613 2021-10-27 01:34 /user/paulo/relatorioAnual/part-00021-c21e2994-592c-4e9e-90d4-887366ee4c24-c000.zlib.orc\r\n",
      "-rw-r--r--   2 root supergroup        603 2021-10-27 01:34 /user/paulo/relatorioAnual/part-00022-c21e2994-592c-4e9e-90d4-887366ee4c24-c000.zlib.orc\r\n",
      "-rw-r--r--   2 root supergroup        606 2021-10-27 01:34 /user/paulo/relatorioAnual/part-00023-c21e2994-592c-4e9e-90d4-887366ee4c24-c000.zlib.orc\r\n",
      "-rw-r--r--   2 root supergroup        605 2021-10-27 01:34 /user/paulo/relatorioAnual/part-00024-c21e2994-592c-4e9e-90d4-887366ee4c24-c000.zlib.orc\r\n",
      "-rw-r--r--   2 root supergroup        609 2021-10-27 01:34 /user/paulo/relatorioAnual/part-00025-c21e2994-592c-4e9e-90d4-887366ee4c24-c000.zlib.orc\r\n",
      "-rw-r--r--   2 root supergroup        613 2021-10-27 01:34 /user/paulo/relatorioAnual/part-00026-c21e2994-592c-4e9e-90d4-887366ee4c24-c000.zlib.orc\r\n",
      "-rw-r--r--   2 root supergroup        601 2021-10-27 01:34 /user/paulo/relatorioAnual/part-00027-c21e2994-592c-4e9e-90d4-887366ee4c24-c000.zlib.orc\r\n",
      "-rw-r--r--   2 root supergroup        606 2021-10-27 01:34 /user/paulo/relatorioAnual/part-00028-c21e2994-592c-4e9e-90d4-887366ee4c24-c000.zlib.orc\r\n",
      "-rw-r--r--   2 root supergroup        613 2021-10-27 01:34 /user/paulo/relatorioAnual/part-00029-c21e2994-592c-4e9e-90d4-887366ee4c24-c000.zlib.orc\r\n",
      "-rw-r--r--   2 root supergroup        614 2021-10-27 01:34 /user/paulo/relatorioAnual/part-00030-c21e2994-592c-4e9e-90d4-887366ee4c24-c000.zlib.orc\r\n",
      "-rw-r--r--   2 root supergroup        607 2021-10-27 01:34 /user/paulo/relatorioAnual/part-00031-c21e2994-592c-4e9e-90d4-887366ee4c24-c000.zlib.orc\r\n",
      "-rw-r--r--   2 root supergroup        609 2021-10-27 01:34 /user/paulo/relatorioAnual/part-00032-c21e2994-592c-4e9e-90d4-887366ee4c24-c000.zlib.orc\r\n",
      "-rw-r--r--   2 root supergroup        614 2021-10-27 01:34 /user/paulo/relatorioAnual/part-00033-c21e2994-592c-4e9e-90d4-887366ee4c24-c000.zlib.orc\r\n"
     ]
    }
   ],
   "source": [
    "!hdfs dfs -ls /user/paulo/relatorioAnual"
   ]
  },
  {
   "cell_type": "code",
   "execution_count": null,
   "metadata": {},
   "outputs": [],
   "source": []
  }
 ],
 "metadata": {
  "kernelspec": {
   "display_name": "PySpark",
   "language": "python",
   "name": "pyspark"
  },
  "language_info": {
   "codemirror_mode": {
    "name": "ipython",
    "version": 3
   },
   "file_extension": ".py",
   "mimetype": "text/x-python",
   "name": "python",
   "nbconvert_exporter": "python",
   "pygments_lexer": "ipython3",
   "version": "3.6.10"
  }
 },
 "nbformat": 4,
 "nbformat_minor": 2
}
